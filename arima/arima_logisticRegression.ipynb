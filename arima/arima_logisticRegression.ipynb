{
 "cells": [
  {
   "cell_type": "code",
   "execution_count": 1,
   "metadata": {},
   "outputs": [],
   "source": [
    "import numpy as np\n",
    "import pandas as pd\n",
    "import pdc_dtf\n",
    "import sys\n",
    "sys.path.append('/projectnb/cs542/wchapman/seizure_prediction_ml')\n",
    "import utils"
   ]
  },
  {
   "cell_type": "code",
   "execution_count": 114,
   "metadata": {},
   "outputs": [],
   "source": [
    "pat = 3\n",
    "df = pd.read_pickle('/projectnb/cs542/wchapman/seizure_prediction_ml/arima/fits/s' +str(pat) +'_coefs')\n",
    "#npz = np.load('/projectnb/cs542/wchapman/seizure_prediction_ml/arima/fits/s2_40Hz.npz')\n",
    "dfs = utils.read_frames()\n",
    "dfs = dfs[(dfs['pat']==pat) & (dfs['train']==1)]\n",
    "y = dfs['class'].values"
   ]
  },
  {
   "cell_type": "code",
   "execution_count": 115,
   "metadata": {},
   "outputs": [],
   "source": [
    "# unpack the variables\n",
    "coef = np.zeros((df.shape[0], \n",
    "                 df.loc[0]['coef'][0].shape[0], \n",
    "                 df.loc[0]['coef'][0].shape[1],\n",
    "                 df.loc[0]['coef'][0].shape[2]))\n",
    "\n",
    "coef_block = np.zeros((df.shape[0], \n",
    "                       df.loc[0]['coef_block'][0].shape[0], \n",
    "                       df.loc[0]['coef_block'][0].shape[1],\n",
    "                       df.loc[0]['coef_block'][0].shape[2],\n",
    "                       df.loc[0]['coef_block'][0].shape[3]))\n",
    "\n",
    "coef_flat = np.zeros((coef.shape[0],coef.shape[1]*coef.shape[2]*coef.shape[3]))\n",
    "coef_flat_block = np.zeros((coef.shape[0], coef.shape[1], coef.shape[2]*coef.shape[3]))\n",
    "y_blocks = np.zeros((coef.shape[0], coef.shape[1]))\n",
    "\n",
    "for i in range(0, df.shape[0]):\n",
    "    coef[i] = df.loc[i].coef[0]\n",
    "    coef_block[i] = df.loc[i].coef_block[0]\n",
    "    \n",
    "    coef_flat[i] = coef[i].flatten()\n",
    "    \n",
    "    for k in range(0, coef[i].shape[0]):\n",
    "        coef_flat_block[i][k] = coef[i][k].flatten()\n",
    "        y_blocks[i] = y[i]"
   ]
  },
  {
   "cell_type": "code",
   "execution_count": 116,
   "metadata": {},
   "outputs": [],
   "source": [
    "from sklearn.model_selection import KFold, StratifiedKFold\n",
    "from sklearn.linear_model import LogisticRegression\n",
    "from sklearn.metrics import roc_auc_score\n",
    "\n",
    "\n",
    "rkf = StratifiedKFold(n_splits=10)\n",
    "auc_trains = list()\n",
    "auc_tests = list()\n",
    "\n",
    "for trains, tests in rkf.split(coef_flat, y):\n",
    "    model = LogisticRegression()\n",
    "    model.fit(coef_flat[trains], y[trains])\n",
    "    \n",
    "    auc_train = (roc_auc_score(y[trains], model.predict_proba(coef_flat[trains])[:,1]))\n",
    "    auc_test = (roc_auc_score(y[tests], model.predict_proba(coef_flat[tests])[:,1]))\n",
    " \n",
    "    auc_trains.append(auc_train)\n",
    "    auc_tests.append(auc_test)\n"
   ]
  },
  {
   "cell_type": "code",
   "execution_count": 120,
   "metadata": {},
   "outputs": [
    {
     "name": "stdout",
     "output_type": "stream",
     "text": [
      "0.7994034026866107\n",
      "0.11662706634807415\n"
     ]
    }
   ],
   "source": [
    "print(np.mean(np.asarray(auc_tests)))\n",
    "print(np.std(np.asarray(auc_tests)))"
   ]
  },
  {
   "cell_type": "code",
   "execution_count": 24,
   "metadata": {},
   "outputs": [
    {
     "ename": "NameError",
     "evalue": "name 'y_val' is not defined",
     "traceback": [
      "\u001b[0;31m---------------------------------------------------------------------------\u001b[0m",
      "\u001b[0;31mNameError\u001b[0m                                 Traceback (most recent call last)",
      "\u001b[0;32m<ipython-input-24-ff9f4e1703eb>\u001b[0m in \u001b[0;36m<module>\u001b[0;34m()\u001b[0m\n\u001b[1;32m      2\u001b[0m \u001b[0;32mfrom\u001b[0m \u001b[0msklearn\u001b[0m\u001b[0;34m.\u001b[0m\u001b[0mmetrics\u001b[0m \u001b[0;32mimport\u001b[0m \u001b[0mroc_auc_score\u001b[0m\u001b[0;34m\u001b[0m\u001b[0m\n\u001b[1;32m      3\u001b[0m \u001b[0;32mfrom\u001b[0m \u001b[0msklearn\u001b[0m\u001b[0;34m.\u001b[0m\u001b[0mmetrics\u001b[0m \u001b[0;32mimport\u001b[0m \u001b[0mroc_curve\u001b[0m\u001b[0;34m\u001b[0m\u001b[0m\n\u001b[0;32m----> 4\u001b[0;31m \u001b[0mlogit_roc_auc\u001b[0m \u001b[0;34m=\u001b[0m \u001b[0mroc_auc_score\u001b[0m\u001b[0;34m(\u001b[0m\u001b[0my_val\u001b[0m\u001b[0;34m,\u001b[0m \u001b[0mmodel\u001b[0m\u001b[0;34m.\u001b[0m\u001b[0mpredict\u001b[0m\u001b[0;34m(\u001b[0m\u001b[0mcoefv_flat\u001b[0m\u001b[0;34m)\u001b[0m\u001b[0;34m)\u001b[0m\u001b[0;34m\u001b[0m\u001b[0m\n\u001b[0m\u001b[1;32m      5\u001b[0m \u001b[0mfpr\u001b[0m\u001b[0;34m,\u001b[0m \u001b[0mtpr\u001b[0m\u001b[0;34m,\u001b[0m \u001b[0mthresholds\u001b[0m \u001b[0;34m=\u001b[0m \u001b[0mroc_curve\u001b[0m\u001b[0;34m(\u001b[0m\u001b[0my_val\u001b[0m\u001b[0;34m,\u001b[0m \u001b[0mmodel\u001b[0m\u001b[0;34m.\u001b[0m\u001b[0mpredict_prob\u001b[0m\u001b[0;34m(\u001b[0m\u001b[0mcoefv_flat\u001b[0m\u001b[0;34m)\u001b[0m\u001b[0;34m[\u001b[0m\u001b[0;34m:\u001b[0m\u001b[0;34m,\u001b[0m\u001b[0;36m1\u001b[0m\u001b[0;34m]\u001b[0m\u001b[0;34m)\u001b[0m\u001b[0;34m\u001b[0m\u001b[0m\n\u001b[1;32m      6\u001b[0m \u001b[0mplt\u001b[0m\u001b[0;34m.\u001b[0m\u001b[0mfigure\u001b[0m\u001b[0;34m(\u001b[0m\u001b[0;34m)\u001b[0m\u001b[0;34m\u001b[0m\u001b[0m\n",
      "\u001b[0;31mNameError\u001b[0m: name 'y_val' is not defined"
     ],
     "output_type": "error"
    }
   ],
   "source": [
    "# %% Get ROC\n",
    "from sklearn.metrics import roc_auc_score\n",
    "from sklearn.metrics import roc_curve\n",
    "logit_roc_auc = roc_auc_score(y_val, model.predict(coefv_flat))\n",
    "fpr, tpr, thresholds = roc_curve(y_val, model.predict_prob(coefv_flat)[:,1])\n",
    "plt.figure()\n",
    "plt.plot(fpr, tpr, label='Logistic Regression (area = %0.2f)' % logit_roc_auc)\n",
    "plt.plot([0, 1], [0, 1],'r--')\n",
    "plt.xlim([0.0, 1.0])\n",
    "plt.ylim([0.0, 1.05])\n",
    "plt.xlabel('False Positive Rate')\n",
    "plt.ylabel('True Positive Rate')\n",
    "plt.title('Receiver operating characteristic')\n",
    "plt.legend(loc=\"lower right\")\n",
    "#plt.savefig('Log_ROC')\n",
    "plt.show()"
   ]
  }
 ],
 "metadata": {
  "kernelspec": {
   "display_name": "Python 3",
   "language": "python",
   "name": "python3"
  },
  "language_info": {
   "codemirror_mode": {
    "name": "ipython",
    "version": 3
   },
   "file_extension": ".py",
   "mimetype": "text/x-python",
   "name": "python",
   "nbconvert_exporter": "python",
   "pygments_lexer": "ipython3",
   "version": "3.6.5"
  }
 },
 "nbformat": 4,
 "nbformat_minor": 2
}
